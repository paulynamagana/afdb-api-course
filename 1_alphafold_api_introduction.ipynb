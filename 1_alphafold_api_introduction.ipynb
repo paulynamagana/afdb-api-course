{
  "nbformat": 4,
  "nbformat_minor": 0,
  "metadata": {
    "colab": {
      "provenance": [],
      "toc_visible": true,
      "mount_file_id": "1NsOLksV_rBGVPjdXiIjb2drkYPhuSNbD",
      "authorship_tag": "ABX9TyOAcDAYeDuPp5XmR5RNWl73",
      "include_colab_link": true
    },
    "kernelspec": {
      "name": "python3",
      "display_name": "Python 3"
    },
    "language_info": {
      "name": "python"
    }
  },
  "cells": [
    {
      "cell_type": "markdown",
      "metadata": {
        "id": "view-in-github",
        "colab_type": "text"
      },
      "source": [
        "<a href=\"https://colab.research.google.com/github/paulynamagana/afdb-api-course/blob/main/1_alphafold_api_introduction.ipynb\" target=\"_parent\"><img src=\"https://colab.research.google.com/assets/colab-badge.svg\" alt=\"Open In Colab\"/></a>"
      ]
    },
    {
      "cell_type": "markdown",
      "source": [
        "# <font color='#02CCFE'> Introduction to AlphaFold Database API\n",
        "\n",
        "<img src=\"https://www.embl.org/about/info/communications/wp-content/uploads/2017/09/Ebi_official_logo.png\" height=\"100\" align = \"right\">\n",
        "\n",
        "Welcome to this Google Colab notebook, designed to guide you through the application of EMBL-EBI APIs for protein characterization. This session will primarily focus on interacting with the AlphaFold Database API, a key resource for accessing predicted protein structures.\n",
        "\n",
        "This notebook will demonstrate the process of retrieving data from the AlphaFold Protein Structure Database via its Application Programming Interface (API). Detailed API endpoint documentation is available on the [AlphaFold Database website](https://alphafold.ebi.ac.uk/api-docs).\n",
        "\n",
        "The AlphaFold Database, a collaborative effort by Google DeepMind and EMBL-EBI, has significantly advanced structural biology by providing broad access to highly accurate protein structure predictions. Developing proficiency in programmatic interaction with this database is a valuable skill for researchers working with protein sequence and structural data."
      ],
      "metadata": {
        "id": "xzlkpTu1xBZu"
      }
    },
    {
      "cell_type": "markdown",
      "source": [
        "## Objectives\n",
        "\n",
        "This notebook will cover the fundamental aspects of accessing and retrieving data from the AlphaFold Database API. You will learn to:\n",
        "\n",
        "* Formulate API requests to search for protein structures.\n",
        "* Retrieve predicted 3D coordinates and associated metadata.\n",
        "* Understand the format of the API responses.\n",
        "* Integrate this data into your bioinformatics workflows.\n",
        "\n",
        "Upon completion of this Colab, you will possess a foundational understanding for utilizing the AlphaFold Database API in your research, facilitating large-scale exploration of protein structures."
      ],
      "metadata": {
        "id": "UQIGZ59qxsCB"
      }
    },
    {
      "cell_type": "markdown",
      "source": [
        "## How to use Google Colab <a name=\"Quick Start\"></a>\n",
        "1. To run a code cell, click on the cell to select it. You will notice a play button (▶️) on the left side of the cell. Click on the play button or press Shift+Enter to run the code in the selected cell.\n",
        "2. The code will start executing, and you will see the output, if any, displayed below the code cell.\n",
        "3. Move to the next code cell and repeat steps 2 and 3 until you have executed all the desired code cells in sequence.\n",
        "4. The currently running step is indicated by a circle with a stop sign next to it.\n",
        "If you need to stop or interrupt the execution of a code cell, you can click on the stop button (■) located next to the play button.\n",
        "\n",
        "*Remember to run the code cells in the correct order, as their execution might depend on variables or functions defined in previous cells. You can modify the code in a code cell and re-run it to see updated results.*"
      ],
      "metadata": {
        "id": "vRKRowifyCYU"
      }
    },
    {
      "cell_type": "markdown",
      "source": [
        "# <font color='#e59454'>1.**Get response from API endpoint** </font>\n",
        "\n",
        "This section defines a function to retrieve protein structure prediction data from the AlphaFold Database using its public API.\n"
      ],
      "metadata": {
        "id": "gghceXdiy7QA"
      }
    },
    {
      "cell_type": "code",
      "source": [
        "import requests #to make HTTP requests to the API\n",
        "import json #to work with the JSON data returned by the API\n",
        "\n",
        "def get_afdb_response(uniprot_id):\n",
        "  \"\"\"\n",
        "  Fetches prediction data from the AlphaFold Database API for a given UniProt ID.\n",
        "\n",
        "  Args:\n",
        "    uniprot_id (str): The UniProt accession ID for the protein of interest. Example: \"P12345\"\n",
        "\n",
        "  Returns:\n",
        "    dict or str: A dictionary containing the API response (usually a list of prediction entries) if the request is successful (HTTP status code 200).\n",
        "    Returns an error message string if the request fails.\n",
        "  \"\"\"\n",
        "\n",
        "  AFDB_API_BASE_URL = \"https://alphafold.ebi.ac.uk/api/prediction/\"\n",
        "  uniprot_id = uniprot_id.upper() # this will ensure that the UniProt ID is uppercase\n",
        "\n",
        "  request_url = AFDB_API_BASE_URL + uniprot_id #construct the full URL by appending the base URL and the UniProt ID\n",
        "  print(f\"➡️ Sending request to: {request_url}\") #to see the URL\n",
        "\n",
        "  response = requests.get(request_url, timeout =10) #query the URL\n",
        "  if response.status_code == 200: # if the request was successful (200 means OK)\n",
        "    result = response.json()\n",
        "    print(f\"✅ Success! Received data for {uniprot_id}\")\n",
        "    return result\n",
        "\n",
        "  else:\n",
        "    error_message = f\"❌ API request failed for {uniprot_id} with status: {response.status_code} - {response.reason}\"\n",
        "    print(error_message)\n",
        "    if response.status_code == 404 or response.status_code == 400:\n",
        "      print(f\"ℹ️  Hint: A status code of 404/400 often means the UniProt ID '{uniprot_id}' is not available in the AlphaFold Database or the ID is incorrect.\")\n"
      ],
      "metadata": {
        "id": "5EFCt6gDyKXk"
      },
      "execution_count": null,
      "outputs": []
    },
    {
      "cell_type": "code",
      "source": [
        "# @markdown We'll use a UniProt ID to specify the protein we're interested in.\n",
        "\n",
        "uniprot_id = \"Q5VSL9\" #@param {type:\"string\"}\n",
        "get_afdb_response(uniprot_id) #call the previous function"
      ],
      "metadata": {
        "colab": {
          "base_uri": "https://localhost:8080/"
        },
        "cellView": "form",
        "id": "O3bXwEEHzMVY",
        "outputId": "e4104857-5e58-4254-d751-5dcb81f05f80"
      },
      "execution_count": null,
      "outputs": [
        {
          "output_type": "stream",
          "name": "stdout",
          "text": [
            "➡️ Sending request to: https://alphafold.ebi.ac.uk/api/prediction/Q5VSL9\n",
            "✅ Success! Received data for Q5VSL9\n"
          ]
        },
        {
          "output_type": "execute_result",
          "data": {
            "text/plain": [
              "[{'entryId': 'AF-Q5VSL9-F1',\n",
              "  'gene': 'STRIP1',\n",
              "  'sequenceChecksum': '5F9BA1D4C7DE6925',\n",
              "  'sequenceVersionDate': '2004-12-07',\n",
              "  'uniprotAccession': 'Q5VSL9',\n",
              "  'uniprotId': 'STRP1_HUMAN',\n",
              "  'uniprotDescription': 'Striatin-interacting protein 1',\n",
              "  'taxId': 9606,\n",
              "  'organismScientificName': 'Homo sapiens',\n",
              "  'uniprotStart': 1,\n",
              "  'uniprotEnd': 837,\n",
              "  'uniprotSequence': 'MEPAVGGPGPLIVNNKQPQPPPPPPPAAAQPPPGAPRAAAGLLPGGKAREFNRNQRKDSEGYSESPDLEFEYADTDKWAAELSELYSYTEGPEFLMNRKCFEEDFRIHVTDKKWTELDTNQHRTHAMRLLDGLEVTAREKRLKVARAILYVAQGTFGECSSEAEVQSWMRYNIFLLLEVGTFNALVELLNMEIDNSAACSSAVRKPAISLADSTDLRVLLNIMYLIVETVHQECEGDKAEWRTMRQTFRAELGSPLYNNEPFAIMLFGMVTKFCSGHAPHFPMKKVLLLLWKTVLCTLGGFEELQSMKAEKRSILGLPPLPEDSIKVIRNMRAASPPASASDLIEQQQKRGRREHKALIKQDNLDAFNERDPYKADDSREEEEENDDDNSLEGETFPLERDEVMPPPLQHPQTDRLTCPKGLPWAPKVREKDIEMFLESSRSKFIGYTLGSDTNTVVGLPRPIHESIKTLKQHKYTSIAEVQAQMEEEYLRSPLSGGEEEVEQVPAETLYQGLLPSLPQYMIALLKILLAAAPTSKAKTDSINILADVLPEEMPTTVLQSMKLGVDVNRHKEVIVKAISAVLLLLLKHFKLNHVYQFEYMAQHLVFANCIPLILKFFNQNIMSYITAKNSISVLDYPHCVVHELPELTAESLEAGDSNQFCWRNLFSCINLLRILNKLTKWKHSRTMMLVVFKSAPILKRALKVKQAMMQLYVLKLLKVQTKYLGRQWRKSNMKTMSAIYQKVRHRLNDDWAYGNDLDARPWDFQAEECALRANIERFNARRYDRAHSNPDFLPVDNCLQSVLGQRVDLPEDFQMNYDLWLEREVFSKPISWEELLQ',\n",
              "  'modelCreatedDate': '2022-06-01',\n",
              "  'latestVersion': 4,\n",
              "  'allVersions': [1, 2, 3, 4],\n",
              "  'bcifUrl': 'https://alphafold.ebi.ac.uk/files/AF-Q5VSL9-F1-model_v4.bcif',\n",
              "  'cifUrl': 'https://alphafold.ebi.ac.uk/files/AF-Q5VSL9-F1-model_v4.cif',\n",
              "  'pdbUrl': 'https://alphafold.ebi.ac.uk/files/AF-Q5VSL9-F1-model_v4.pdb',\n",
              "  'paeImageUrl': 'https://alphafold.ebi.ac.uk/files/AF-Q5VSL9-F1-predicted_aligned_error_v4.png',\n",
              "  'paeDocUrl': 'https://alphafold.ebi.ac.uk/files/AF-Q5VSL9-F1-predicted_aligned_error_v4.json',\n",
              "  'amAnnotationsUrl': 'https://alphafold.ebi.ac.uk/files/AF-Q5VSL9-F1-aa-substitutions.csv',\n",
              "  'amAnnotationsHg19Url': 'https://alphafold.ebi.ac.uk/files/AF-Q5VSL9-F1-hg19.csv',\n",
              "  'amAnnotationsHg38Url': 'https://alphafold.ebi.ac.uk/files/AF-Q5VSL9-F1-hg38.csv',\n",
              "  'isReviewed': True,\n",
              "  'isReferenceProteome': True}]"
            ]
          },
          "metadata": {},
          "execution_count": 55
        }
      ]
    },
    {
      "cell_type": "markdown",
      "source": [
        "# <font color='#e59454'> **2. Programmatic file download** </font>\n",
        "\n",
        "A significant advantage of utilizing API endpoints is the ability to automate data retrieval, thereby eliminating the need for manual downloads. The following code cells will demonstrate how to programmatically download structure files and associated data (such as pLDDT values, Predicted Aligned Error (PAE) images, and AlphaMissense annotations, where available) directly to a specified folder within your Google Drive."
      ],
      "metadata": {
        "id": "a5mLjRq80Hk8"
      }
    },
    {
      "cell_type": "code",
      "source": [
        "api_response = get_afdb_response(uniprot_id) #reuse previous function\n",
        "\n",
        "if isinstance(api_response, list) and api_response: #check it was successful and that we have a list\n",
        "  for entry in api_response:\n",
        "    print(f\"-- Processing Entry--\")\n",
        "    urls_to_download = {}\n",
        "\n",
        "    if \"cifUrl\" in entry and entry[\"cifUrl\"]:\n",
        "      urls_to_download[\"cif\"] = entry[\"cifUrl\"]\n",
        "      print(f\"🔗 CIF file URL: {entry['cifUrl']}\")\n",
        "\n",
        "    if \"pdbUrl\" in entry and entry[\"pdbUrl\"]:\n",
        "      urls_to_download[\"pdbUrl\"] = entry[\"pdbUrl\"]\n",
        "      print(f\"🔗 PDB file URL: {entry['pdbUrl']}\")\n",
        "\n",
        "    if \"paeImageUrl\" in entry and entry[\"paeImageUrl\"]:\n",
        "      urls_to_download[\"paeImageUrl\"] = entry[\"paeImageUrl\"]\n",
        "      print(f\"🔗 PAE Image URL: {entry['paeImageUrl']}\")\n",
        "\n",
        "    if \"amAnnotationsUrl\" in entry and entry[\"amAnnotationsUrl\"]:\n",
        "      urls_to_download[\"amAnnotationsUrl\"] = entry[\"amAnnotationsUrl\"]\n",
        "      print(f\"🔗 AlphaMissense URL: {entry['amAnnotationsUrl']}\")\n",
        "    else:\n",
        "      print(\"⚠️ No AlphaMissense annotations available for this entry. Is it human?\")\n",
        "\n",
        "  if not urls_to_download:\n",
        "    print(\"No downloable URLs found in the API response.\")\n",
        "  else:\n",
        "    print(f\"Collected all urls to download: {urls_to_download}\")\n"
      ],
      "metadata": {
        "colab": {
          "base_uri": "https://localhost:8080/"
        },
        "id": "3rSCuAfw0_B1",
        "outputId": "f02b2bcd-cf8a-4709-e6f0-a7cbf1558517"
      },
      "execution_count": null,
      "outputs": [
        {
          "output_type": "stream",
          "name": "stdout",
          "text": [
            "➡️ Sending request to: https://alphafold.ebi.ac.uk/api/prediction/Q5VSL9\n",
            "✅ Success! Received data for Q5VSL9\n",
            "-- Processing Entry--\n",
            "🔗 CIF file URL: https://alphafold.ebi.ac.uk/files/AF-Q5VSL9-F1-model_v4.cif\n",
            "🔗 PDB file URL: https://alphafold.ebi.ac.uk/files/AF-Q5VSL9-F1-model_v4.pdb\n",
            "🔗 PAE Image URL: https://alphafold.ebi.ac.uk/files/AF-Q5VSL9-F1-predicted_aligned_error_v4.png\n",
            "🔗 AlphaMissense URL: https://alphafold.ebi.ac.uk/files/AF-Q5VSL9-F1-aa-substitutions.csv\n",
            "Collected all urls to download: {'cif': 'https://alphafold.ebi.ac.uk/files/AF-Q5VSL9-F1-model_v4.cif', 'pdbUrl': 'https://alphafold.ebi.ac.uk/files/AF-Q5VSL9-F1-model_v4.pdb', 'paeImageUrl': 'https://alphafold.ebi.ac.uk/files/AF-Q5VSL9-F1-predicted_aligned_error_v4.png', 'amAnnotationsUrl': 'https://alphafold.ebi.ac.uk/files/AF-Q5VSL9-F1-aa-substitutions.csv'}\n"
          ]
        }
      ]
    },
    {
      "cell_type": "markdown",
      "source": [
        "This section provides a function designed to download the extracted files into a dedicated folder on your Google Drive. This folder will be named `\"AFDB_API_course_downloads\"`."
      ],
      "metadata": {
        "id": "y8Y_RCTq8wNj"
      }
    },
    {
      "cell_type": "code",
      "source": [
        "import os\n",
        "from google.colab import drive\n",
        "import re\n",
        "\n",
        "# -- Mount Google Drive\n",
        "drive.mount('/content/drive', force_remount=True) # this will mount you Google Drive\n",
        "\n",
        "def download_files(url_dictionary):\n",
        "  destination_path = \"/content/drive/MyDrive/AFDB_API_course_downloads\"\n",
        "\n",
        "  if not os.path.exists(destination_path): #if the folder doesn't exist\n",
        "    os.makedirs(destination_path)\n",
        "    print(f\"✅ Directory created: {destination_path}\")\n",
        "  else:\n",
        "    print(f\"ℹ️ Directory already exists: {destination_path}\")\n",
        "\n",
        "\n",
        "  for file_type, url in url_dictionary.items():\n",
        "    if not url: # Skip if a URL is empty or None\n",
        "        print(f\"🚫 Skipping {file_type} as URL is missing.\")\n",
        "        continue\n",
        "    try:\n",
        "      original_filename = url.split('/')[-1]\n",
        "      file_extension = \"\"\n",
        "      match = re.search(r'AF-([A-Z0-9]+)-F\\d+', url)\n",
        "      if match:\n",
        "          uniprot_id = match.group(1)\n",
        "\n",
        "      if '.' in original_filename:\n",
        "          file_extension = \".\" + original_filename.split('.')[-1]\n",
        "\n",
        "      if file_type == \"cif\":\n",
        "          filename = f\"{uniprot_id}_model{file_extension or '.cif'}\"\n",
        "      elif file_type == \"pdb\":\n",
        "          filename = f\"{uniprot_id}_model{file_extension or '.pdb'}\"\n",
        "      elif file_type == \"pae_image\":\n",
        "          filename = f\"{uniprot_id}_pae{file_extension or '.png'}\"\n",
        "      elif file_type == \"alphamissense_tsv\": # Assuming you used this key earlier\n",
        "          filename = f\"{uniprot_id}_alphamissense{file_extension or '.tsv'}\" # Or .csv if it's a csv\n",
        "      else:\n",
        "          # Fallback for other types: use the file_type and original extension\n",
        "          filename = f\"{uniprot_id}_{file_type}{file_extension}\"\n",
        "\n",
        "      full_file_path = os.path.join(destination_path, filename)\n",
        "\n",
        "      file_response = requests.get(url, stream=True, timeout=30)\n",
        "\n",
        "      if file_response.status_code == 200:\n",
        "        with open(full_file_path, 'wb') as f:\n",
        "          for chunk in file_response.iter_content(chunk_size=8192): # Download in 8KB chunks\n",
        "            f.write(chunk)\n",
        "        print(f\"  ✅ Successfully downloaded: {filename}\")\n",
        "      else:\n",
        "        print(f\"  ❌ Failed to download {file_type}. Status: {file_response.status_code} - {file_response.reason}\")\n",
        "\n",
        "    except requests.exceptions.RequestException as e:\n",
        "      print(f\"  🚫 Error downloading {file_type} from {url}: {e}\")\n",
        "    except Exception as e:\n",
        "      print(f\"  🛑 An unexpected error occurred with {file_type}: {e}\")\n",
        "    print(\"-\" * 20) # Separator for each file download attempt\n",
        "\n",
        "  print(\"=\"*30 + f\"\\n🏁 All attempted downloads for {uniprot_id} complete.\")\n"
      ],
      "metadata": {
        "colab": {
          "base_uri": "https://localhost:8080/"
        },
        "id": "Z4k8TxU08dWu",
        "outputId": "4e140ba3-bb72-4e94-a9a8-824883d32c1c"
      },
      "execution_count": null,
      "outputs": [
        {
          "output_type": "stream",
          "name": "stdout",
          "text": [
            "Mounted at /content/drive\n"
          ]
        }
      ]
    },
    {
      "cell_type": "code",
      "source": [
        "download_files(urls_to_download)"
      ],
      "metadata": {
        "colab": {
          "base_uri": "https://localhost:8080/"
        },
        "id": "z3okuU2f_HgH",
        "outputId": "090e47ae-d9ca-4a83-9adb-37d6d2a49310"
      },
      "execution_count": null,
      "outputs": [
        {
          "output_type": "stream",
          "name": "stdout",
          "text": [
            "ℹ️ Directory already exists: /content/drive/MyDrive/AFDB_API_course_downloads\n",
            "  ✅ Successfully downloaded: Q5VSL9_model.cif\n",
            "--------------------\n",
            "  ✅ Successfully downloaded: Q5VSL9_pdbUrl.pdb\n",
            "--------------------\n",
            "  ✅ Successfully downloaded: Q5VSL9_paeImageUrl.png\n",
            "--------------------\n",
            "  ✅ Successfully downloaded: Q5VSL9_amAnnotationsUrl.csv\n",
            "--------------------\n",
            "==============================\n",
            "🏁 All attempted downloads for Q5VSL9 complete.\n"
          ]
        }
      ]
    }
  ]
}